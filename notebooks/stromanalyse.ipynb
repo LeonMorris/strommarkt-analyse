{
 "cells": [
  {
   "cell_type": "code",
   "execution_count": 28,
   "id": "3fb15b61-4f89-4360-846c-c78f5939c8a1",
   "metadata": {},
   "outputs": [],
   "source": [
    "import sys\n",
    "import os\n",
    "import pandas as pd\n",
    "import matplotlib.pyplot as plt\n",
    "\n",
    "%reload_ext autoreload\n",
    "%autoreload 2\n",
    "\n",
    "# Pfad zu src/ hinzufügen, damit wir unsere Module importieren können\n",
    "sys.path.append(os.path.abspath(\"/Users/leonmorris/Desktop/python/strommarkt-analyse/strommarkt-analyse/src\"))"
   ]
  },
  {
   "cell_type": "code",
   "execution_count": 29,
   "id": "b1a4cd8d-eb97-4f00-92c8-db841b44b39e",
   "metadata": {
    "scrolled": true
   },
   "outputs": [],
   "source": [
    "from data_loader import load_smard_cvs\n",
    "#from database import save_to_sqlite\n",
    "from visualizer import plot_time_series"
   ]
  },
  {
   "cell_type": "code",
   "execution_count": 30,
   "id": "db423daa-18f3-46c4-98f1-0fe835695d9f",
   "metadata": {},
   "outputs": [
    {
     "data": {
      "text/html": [
       "<div>\n",
       "<style scoped>\n",
       "    .dataframe tbody tr th:only-of-type {\n",
       "        vertical-align: middle;\n",
       "    }\n",
       "\n",
       "    .dataframe tbody tr th {\n",
       "        vertical-align: top;\n",
       "    }\n",
       "\n",
       "    .dataframe thead th {\n",
       "        text-align: right;\n",
       "    }\n",
       "</style>\n",
       "<table border=\"1\" class=\"dataframe\">\n",
       "  <thead>\n",
       "    <tr style=\"text-align: right;\">\n",
       "      <th></th>\n",
       "      <th>Datum von</th>\n",
       "      <th>Netzlast inkl. Pumpspeicher [MWh] Originalauflösungen</th>\n",
       "    </tr>\n",
       "  </thead>\n",
       "  <tbody>\n",
       "    <tr>\n",
       "      <th>0</th>\n",
       "      <td>01.05.2025 00:00</td>\n",
       "      <td>10.499,00</td>\n",
       "    </tr>\n",
       "    <tr>\n",
       "      <th>1</th>\n",
       "      <td>01.05.2025 00:15</td>\n",
       "      <td>10.335,25</td>\n",
       "    </tr>\n",
       "    <tr>\n",
       "      <th>2</th>\n",
       "      <td>01.05.2025 00:30</td>\n",
       "      <td>10.183,50</td>\n",
       "    </tr>\n",
       "    <tr>\n",
       "      <th>3</th>\n",
       "      <td>01.05.2025 00:45</td>\n",
       "      <td>10.028,75</td>\n",
       "    </tr>\n",
       "    <tr>\n",
       "      <th>4</th>\n",
       "      <td>01.05.2025 01:00</td>\n",
       "      <td>9.935,25</td>\n",
       "    </tr>\n",
       "    <tr>\n",
       "      <th>...</th>\n",
       "      <td>...</td>\n",
       "      <td>...</td>\n",
       "    </tr>\n",
       "    <tr>\n",
       "      <th>2971</th>\n",
       "      <td>31.05.2025 22:45</td>\n",
       "      <td>-</td>\n",
       "    </tr>\n",
       "    <tr>\n",
       "      <th>2972</th>\n",
       "      <td>31.05.2025 23:00</td>\n",
       "      <td>-</td>\n",
       "    </tr>\n",
       "    <tr>\n",
       "      <th>2973</th>\n",
       "      <td>31.05.2025 23:15</td>\n",
       "      <td>-</td>\n",
       "    </tr>\n",
       "    <tr>\n",
       "      <th>2974</th>\n",
       "      <td>31.05.2025 23:30</td>\n",
       "      <td>-</td>\n",
       "    </tr>\n",
       "    <tr>\n",
       "      <th>2975</th>\n",
       "      <td>31.05.2025 23:45</td>\n",
       "      <td>-</td>\n",
       "    </tr>\n",
       "  </tbody>\n",
       "</table>\n",
       "<p>2976 rows × 2 columns</p>\n",
       "</div>"
      ],
      "text/plain": [
       "             Datum von Netzlast inkl. Pumpspeicher [MWh] Originalauflösungen\n",
       "0     01.05.2025 00:00                                          10.499,00   \n",
       "1     01.05.2025 00:15                                          10.335,25   \n",
       "2     01.05.2025 00:30                                          10.183,50   \n",
       "3     01.05.2025 00:45                                          10.028,75   \n",
       "4     01.05.2025 01:00                                           9.935,25   \n",
       "...                ...                                                ...   \n",
       "2971  31.05.2025 22:45                                                  -   \n",
       "2972  31.05.2025 23:00                                                  -   \n",
       "2973  31.05.2025 23:15                                                  -   \n",
       "2974  31.05.2025 23:30                                                  -   \n",
       "2975  31.05.2025 23:45                                                  -   \n",
       "\n",
       "[2976 rows x 2 columns]"
      ]
     },
     "metadata": {},
     "output_type": "display_data"
    }
   ],
   "source": [
    "# Daten laden\n",
    "url = \"/Users/leonmorris/Desktop/python/strommarkt-analyse/strommarkt-analyse/raw_data/Realisierter_Stromverbrauch_202505010000_202506010000_Viertelstunde.csv\"\n",
    "df = load_smard_cvs(url)\n",
    "display(df)"
   ]
  },
  {
   "cell_type": "code",
   "execution_count": 32,
   "id": "2cfe0c08-58c6-4313-8024-3a39dea87c65",
   "metadata": {
    "scrolled": true
   },
   "outputs": [
    {
     "ename": "AttributeError",
     "evalue": "type object 'str' has no attribute 'time_col'",
     "output_type": "error",
     "traceback": [
      "\u001b[31m---------------------------------------------------------------------------\u001b[39m",
      "\u001b[31mAttributeError\u001b[39m                            Traceback (most recent call last)",
      "\u001b[36mCell\u001b[39m\u001b[36m \u001b[39m\u001b[32mIn[32]\u001b[39m\u001b[32m, line 1\u001b[39m\n\u001b[32m----> \u001b[39m\u001b[32m1\u001b[39m \u001b[43mplot_time_series\u001b[49m\u001b[43m(\u001b[49m\u001b[43mdf\u001b[49m\u001b[43m,\u001b[49m\u001b[43m \u001b[49m\u001b[33;43m\"\u001b[39;49m\u001b[33;43mDatum von\u001b[39;49m\u001b[33;43m\"\u001b[39;49m\u001b[43m,\u001b[49m\u001b[43m \u001b[49m\u001b[33;43m\"\u001b[39;49m\u001b[33;43mNetzlast inkl. Pumpspeicher [MWh] Originalauflösungen\u001b[39;49m\u001b[33;43m\"\u001b[39;49m\u001b[43m,\u001b[49m\u001b[43m \u001b[49m\u001b[33;43m\"\u001b[39;49m\u001b[33;43mStromverbrauch in Deutschland\u001b[39;49m\u001b[33;43m\"\u001b[39;49m\u001b[43m)\u001b[49m\n\u001b[32m      2\u001b[39m \u001b[38;5;66;03m# Beispiel: datetime auf der X-Achse, Verbrauch auf der Y-Achse\u001b[39;00m\n",
      "\u001b[36mFile \u001b[39m\u001b[32m~/Desktop/python/strommarkt-analyse/strommarkt-analyse/src/visualizer.py:15\u001b[39m, in \u001b[36mplot_time_series\u001b[39m\u001b[34m(df, time_col, value_col, title)\u001b[39m\n\u001b[32m      3\u001b[39m \u001b[38;5;28;01mdef\u001b[39;00m\u001b[38;5;250m \u001b[39m\u001b[34mplot_time_series\u001b[39m(df, time_col, value_col, title):\n\u001b[32m      4\u001b[39m     \u001b[38;5;66;03m#Erstellt eine einfache Zeitreihe-Plot\u001b[39;00m\n\u001b[32m      5\u001b[39m     \u001b[38;5;66;03m#df.plot(x=time_col, y=value_col, figsize=(10,5))\u001b[39;00m\n\u001b[32m   (...)\u001b[39m\u001b[32m     12\u001b[39m     \u001b[38;5;66;03m#plt.tight_layout()\u001b[39;00m\n\u001b[32m     13\u001b[39m     \u001b[38;5;66;03m#plt.show()\u001b[39;00m\n\u001b[32m     14\u001b[39m     plt.figure(figsize=(\u001b[32m12\u001b[39m, \u001b[32m6\u001b[39m))  \u001b[38;5;66;03m# Größe des Plots (optional)\u001b[39;00m\n\u001b[32m---> \u001b[39m\u001b[32m15\u001b[39m     plt.plot(df[\u001b[38;5;28;43mstr\u001b[39;49m\u001b[43m.\u001b[49m\u001b[43mtime_col\u001b[49m], df[\u001b[38;5;28mstr\u001b[39m.value_col], label= \u001b[38;5;28mstr\u001b[39m.title, color=\u001b[33m'\u001b[39m\u001b[33mblue\u001b[39m\u001b[33m'\u001b[39m)\n\u001b[32m     17\u001b[39m     \u001b[38;5;66;03m# Achsen beschriften\u001b[39;00m\n\u001b[32m     18\u001b[39m     plt.xlabel(\u001b[33m'\u001b[39m\u001b[33mZeit\u001b[39m\u001b[33m'\u001b[39m)\n",
      "\u001b[31mAttributeError\u001b[39m: type object 'str' has no attribute 'time_col'"
     ]
    },
    {
     "data": {
      "text/plain": [
       "<Figure size 1200x600 with 0 Axes>"
      ]
     },
     "metadata": {},
     "output_type": "display_data"
    }
   ],
   "source": [
    "plot_time_series(df, \"Datum von\", \"Netzlast inkl. Pumpspeicher [MWh] Originalauflösungen\", \"Stromverbrauch in Deutschland\")\n",
    "# Beispiel: datetime auf der X-Achse, Verbrauch auf der Y-Achse"
   ]
  }
 ],
 "metadata": {
  "kernelspec": {
   "display_name": "Python 3 (ipykernel)",
   "language": "python",
   "name": "python3"
  },
  "language_info": {
   "codemirror_mode": {
    "name": "ipython",
    "version": 3
   },
   "file_extension": ".py",
   "mimetype": "text/x-python",
   "name": "python",
   "nbconvert_exporter": "python",
   "pygments_lexer": "ipython3",
   "version": "3.13.0"
  }
 },
 "nbformat": 4,
 "nbformat_minor": 5
}
