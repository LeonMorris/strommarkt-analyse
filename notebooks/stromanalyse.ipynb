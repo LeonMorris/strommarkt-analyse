{
 "cells": [
  {
   "cell_type": "code",
   "execution_count": 41,
   "id": "3fb15b61-4f89-4360-846c-c78f5939c8a1",
   "metadata": {},
   "outputs": [],
   "source": [
    "import sys\n",
    "import os\n",
    "\n",
    "# Pfad zu src/ hinzufügen, damit wir unsere Module importieren können\n",
    "sys.path.append(os.path.abspath(\"/media/leon-morris/MAGIC SD/CODING/strommarkt-analyse/src\"))"
   ]
  },
  {
   "cell_type": "code",
   "execution_count": 42,
   "id": "b1a4cd8d-eb97-4f00-92c8-db841b44b39e",
   "metadata": {
    "scrolled": true
   },
   "outputs": [],
   "source": [
    "from data_loader import load_smard_cvs\n",
    "from database import save_to_sqlite\n",
    "from visualizer import plot_time_series"
   ]
  },
  {
   "cell_type": "code",
   "execution_count": 43,
   "id": "db423daa-18f3-46c4-98f1-0fe835695d9f",
   "metadata": {},
   "outputs": [
    {
     "name": "stderr",
     "output_type": "stream",
     "text": [
      "/media/leon-morris/MAGIC SD/CODING/strommarkt-analyse/src/data_loader.py:5: UserWarning: Pandas doesn't allow columns to be created via a new attribute name - see https://pandas.pydata.org/pandas-docs/stable/indexing.html#attribute-access\n",
      "  df = pd.read_csv(url, sep=\";\", decimal=',') #SMARD nutz komma als Dezimalzeichen\n"
     ]
    },
    {
     "ename": "NameError",
     "evalue": "name 'pd' is not defined",
     "output_type": "error",
     "traceback": [
      "\u001b[0;31m---------------------------------------------------------------------------\u001b[0m",
      "\u001b[0;31mNameError\u001b[0m                                 Traceback (most recent call last)",
      "Cell \u001b[0;32mIn[43], line 7\u001b[0m\n\u001b[1;32m      3\u001b[0m df \u001b[38;5;241m=\u001b[39m load_smard_cvs(url)\n\u001b[1;32m      5\u001b[0m save_to_sqlite(df, \u001b[38;5;124m\"\u001b[39m\u001b[38;5;124m/media/leon-morris/MAGIC SD/CODING/strommarkt-analyse/db.strommarkt.db\u001b[39m\u001b[38;5;124m\"\u001b[39m, \u001b[38;5;124m\"\u001b[39m\u001b[38;5;124mlastgang\u001b[39m\u001b[38;5;124m\"\u001b[39m)\n\u001b[0;32m----> 7\u001b[0m \u001b[43mplot_time_series\u001b[49m\u001b[43m(\u001b[49m\u001b[43mdf\u001b[49m\u001b[43m,\u001b[49m\u001b[43m \u001b[49m\u001b[43mtime_col\u001b[49m\u001b[38;5;241;43m=\u001b[39;49m\u001b[38;5;124;43m\"\u001b[39;49m\u001b[38;5;124;43mdatetime\u001b[39;49m\u001b[38;5;124;43m\"\u001b[39;49m\u001b[43m,\u001b[49m\u001b[43m \u001b[49m\u001b[43mvalue_col\u001b[49m\u001b[38;5;241;43m=\u001b[39;49m\u001b[38;5;124;43m\"\u001b[39;49m\u001b[38;5;124;43mLast (MW)\u001b[39;49m\u001b[38;5;124;43m\"\u001b[39;49m\u001b[43m,\u001b[49m\u001b[43m \u001b[49m\u001b[43mtitle\u001b[49m\u001b[38;5;241;43m=\u001b[39;49m\u001b[38;5;124;43m\"\u001b[39;49m\u001b[38;5;124;43mStromverbrauch in Deutschland\u001b[39;49m\u001b[38;5;124;43m\"\u001b[39;49m\u001b[43m)\u001b[49m\n",
      "File \u001b[0;32m/media/leon-morris/MAGIC SD/CODING/strommarkt-analyse/src/visualizer.py:4\u001b[0m, in \u001b[0;36mplot_time_series\u001b[0;34m(df, time_col, value_col, title)\u001b[0m\n\u001b[1;32m      2\u001b[0m \n\u001b[1;32m      3\u001b[0m def plot_time_series(df, time_col, value_col, title=\"Zeitreihe\"):\n\u001b[0;32m----> 4\u001b[0m     #Erstellt eine einfache Zeitreihe-Plot\n\u001b[1;32m      5\u001b[0m \t#df[time_col] = pd.to_datetime(df[time_col])\n\u001b[1;32m      6\u001b[0m \t#df.plot(x=time_col, y=value_col, figsize=(10,5))\n",
      "\u001b[0;31mNameError\u001b[0m: name 'pd' is not defined"
     ]
    }
   ],
   "source": [
    "# Daten laden\n",
    "url = \"/home/leon-morris/Downloads/Realisierter_Stromverbrauch_202505020000_202505130000_Viertelstunde.csv\"\n",
    "df = load_smard_cvs(url)\n",
    "\n",
    "save_to_sqlite(df, \"/media/leon-morris/MAGIC SD/CODING/strommarkt-analyse/db.strommarkt.db\", \"lastgang\")\n",
    "\n",
    "plot_time_series(df, time_col=\"datetime\", value_col=\"Last (MW)\", title=\"Stromverbrauch in Deutschland\")"
   ]
  },
  {
   "cell_type": "code",
   "execution_count": null,
   "id": "2cfe0c08-58c6-4313-8024-3a39dea87c65",
   "metadata": {},
   "outputs": [],
   "source": []
  }
 ],
 "metadata": {
  "kernelspec": {
   "display_name": "Python 3 (ipykernel)",
   "language": "python",
   "name": "python3"
  },
  "language_info": {
   "codemirror_mode": {
    "name": "ipython",
    "version": 3
   },
   "file_extension": ".py",
   "mimetype": "text/x-python",
   "name": "python",
   "nbconvert_exporter": "python",
   "pygments_lexer": "ipython3",
   "version": "3.10.12"
  }
 },
 "nbformat": 4,
 "nbformat_minor": 5
}
